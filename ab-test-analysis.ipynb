{
 "cells": [
  {
   "cell_type": "markdown",
   "id": "4409952d",
   "metadata": {},
   "source": [
    "# A/B Testing on Simulated Data\n",
    "\n",
    "## Introduction\n",
    "This project demonstrates how to design, simulate, and analyze a basic A/B test using synthetic data.  \n",
    "The goal is to showcase the end-to-end workflow of an online experiment, from data generation to statistical analysis, in a fully reproducible way.\n",
    "\n",
    "The simulated scenario mimics a simple e-commerce experiment where a company tests a new **Call-To-Action (CTA)** button against the current version:\n",
    "\n",
    "- **Group A (Control):** baseline CTA  \n",
    "- **Group B (Treatment):** new CTA with an expected uplift in conversions  \n",
    "\n",
    "Each simulated user is randomly assigned to one of the groups, along with additional heterogeneity:\n",
    "- **New vs. returning users**: new users are modeled to convert at a slightly lower rate.  \n",
    "- **Day-to-day variability**: daily noise is added to reflect real-world fluctuations.  \n",
    "\n",
    "The dataset contains the following columns:\n",
    "- `user_id`: unique identifier for each user  \n",
    "- `date`: simulated visit date  \n",
    "- `group`: experiment assignment (A or B)  \n",
    "- `is_new_user`: whether the user is new (1) or returning (0)  \n",
    "- `converted`: binary indicator (1 = converted, 0 = not converted)  \n",
    "- `revenue`: revenue generated (0 if not converted, >0 if converted)  \n",
    "\n",
    "The analysis focuses on:\n",
    "- Estimating **conversion rates** for A vs. B  \n",
    "- Computing the **uplift** (absolute and relative differences)  \n",
    "- Reporting key business metrics such as **ARPU (Average Revenue Per User)**  \n",
    "- Running statistical tests to determine whether differences are significant  \n",
    "\n",
    "This project is intended as a clear, educational example of how to set up and interpret an A/B test, making it suitable for a data science or analytics portfolio.\n"
   ]
  },
  {
   "cell_type": "markdown",
   "id": "7cb903eb",
   "metadata": {},
   "source": [
    "## Load libraries and data"
   ]
  },
  {
   "cell_type": "code",
   "execution_count": null,
   "id": "c7de6c4c",
   "metadata": {},
   "outputs": [],
   "source": [
    "# Libraries\n",
    "import numpy as np\n",
    "import pandas as pd\n",
    "import matplotlib.pyplot as plt\n",
    "import seaborn as sns\n",
    "from statsmodels.stats.proportion import proportions_ztest, confint_proportions_2indep\n",
    "from scipy import stats"
   ]
  },
  {
   "cell_type": "code",
   "execution_count": 2,
   "id": "7cde2801",
   "metadata": {},
   "outputs": [
    {
     "data": {
      "text/html": [
       "<div>\n",
       "<style scoped>\n",
       "    .dataframe tbody tr th:only-of-type {\n",
       "        vertical-align: middle;\n",
       "    }\n",
       "\n",
       "    .dataframe tbody tr th {\n",
       "        vertical-align: top;\n",
       "    }\n",
       "\n",
       "    .dataframe thead th {\n",
       "        text-align: right;\n",
       "    }\n",
       "</style>\n",
       "<table border=\"1\" class=\"dataframe\">\n",
       "  <thead>\n",
       "    <tr style=\"text-align: right;\">\n",
       "      <th></th>\n",
       "      <th>user_id</th>\n",
       "      <th>group</th>\n",
       "      <th>date</th>\n",
       "      <th>is_new_user</th>\n",
       "      <th>converted</th>\n",
       "      <th>revenue</th>\n",
       "    </tr>\n",
       "  </thead>\n",
       "  <tbody>\n",
       "    <tr>\n",
       "      <th>0</th>\n",
       "      <td>1</td>\n",
       "      <td>A</td>\n",
       "      <td>2025-07-01</td>\n",
       "      <td>0</td>\n",
       "      <td>1</td>\n",
       "      <td>26.122426</td>\n",
       "    </tr>\n",
       "    <tr>\n",
       "      <th>1</th>\n",
       "      <td>2</td>\n",
       "      <td>A</td>\n",
       "      <td>2025-07-25</td>\n",
       "      <td>1</td>\n",
       "      <td>0</td>\n",
       "      <td>0.000000</td>\n",
       "    </tr>\n",
       "    <tr>\n",
       "      <th>2</th>\n",
       "      <td>3</td>\n",
       "      <td>A</td>\n",
       "      <td>2025-07-04</td>\n",
       "      <td>0</td>\n",
       "      <td>0</td>\n",
       "      <td>0.000000</td>\n",
       "    </tr>\n",
       "    <tr>\n",
       "      <th>3</th>\n",
       "      <td>4</td>\n",
       "      <td>A</td>\n",
       "      <td>2025-07-23</td>\n",
       "      <td>0</td>\n",
       "      <td>0</td>\n",
       "      <td>0.000000</td>\n",
       "    </tr>\n",
       "    <tr>\n",
       "      <th>4</th>\n",
       "      <td>5</td>\n",
       "      <td>A</td>\n",
       "      <td>2025-07-01</td>\n",
       "      <td>1</td>\n",
       "      <td>0</td>\n",
       "      <td>0.000000</td>\n",
       "    </tr>\n",
       "  </tbody>\n",
       "</table>\n",
       "</div>"
      ],
      "text/plain": [
       "   user_id group        date  is_new_user  converted    revenue\n",
       "0        1     A  2025-07-01            0          1  26.122426\n",
       "1        2     A  2025-07-25            1          0   0.000000\n",
       "2        3     A  2025-07-04            0          0   0.000000\n",
       "3        4     A  2025-07-23            0          0   0.000000\n",
       "4        5     A  2025-07-01            1          0   0.000000"
      ]
     },
     "metadata": {},
     "output_type": "display_data"
    }
   ],
   "source": [
    "df=pd.read_csv(\"ab_data_simulated.csv\")\n",
    "display(df.head())"
   ]
  },
  {
   "cell_type": "code",
   "execution_count": 3,
   "id": "91582c1a",
   "metadata": {},
   "outputs": [
    {
     "name": "stdout",
     "output_type": "stream",
     "text": [
      "<class 'pandas.core.frame.DataFrame'>\n",
      "RangeIndex: 40000 entries, 0 to 39999\n",
      "Data columns (total 6 columns):\n",
      " #   Column       Non-Null Count  Dtype  \n",
      "---  ------       --------------  -----  \n",
      " 0   user_id      40000 non-null  int64  \n",
      " 1   group        40000 non-null  object \n",
      " 2   date         40000 non-null  object \n",
      " 3   is_new_user  40000 non-null  int64  \n",
      " 4   converted    40000 non-null  int64  \n",
      " 5   revenue      40000 non-null  float64\n",
      "dtypes: float64(1), int64(3), object(2)\n",
      "memory usage: 1.8+ MB\n"
     ]
    }
   ],
   "source": [
    "df.info()"
   ]
  },
  {
   "cell_type": "code",
   "execution_count": 5,
   "id": "50171a2e",
   "metadata": {},
   "outputs": [
    {
     "name": "stdout",
     "output_type": "stream",
     "text": [
      "<class 'pandas.core.frame.DataFrame'>\n",
      "RangeIndex: 40000 entries, 0 to 39999\n",
      "Data columns (total 6 columns):\n",
      " #   Column       Non-Null Count  Dtype         \n",
      "---  ------       --------------  -----         \n",
      " 0   user_id      40000 non-null  int32         \n",
      " 1   group        40000 non-null  category      \n",
      " 2   date         40000 non-null  datetime64[ns]\n",
      " 3   is_new_user  40000 non-null  int8          \n",
      " 4   converted    40000 non-null  int8          \n",
      " 5   revenue      40000 non-null  float32       \n",
      "dtypes: category(1), datetime64[ns](1), float32(1), int32(1), int8(2)\n",
      "memory usage: 742.4 KB\n"
     ]
    }
   ],
   "source": [
    "# Fix dtypes\n",
    "df = df.astype({\n",
    "    \"user_id\": \"int32\",        # smaller int type is enough\n",
    "    \"group\": \"category\",       # categorical: A/B\n",
    "    \"date\": \"datetime64[ns]\",  # proper datetime\n",
    "    \"is_new_user\": \"int8\",     # binary: 0/1\n",
    "    \"converted\": \"int8\",       # binary: 0/1\n",
    "    \"revenue\": \"float32\"       # continuous, can save memory vs float64\n",
    "})\n",
    "\n",
    "# Check results\n",
    "df.info()"
   ]
  },
  {
   "cell_type": "markdown",
   "id": "c59754bc",
   "metadata": {},
   "source": [
    "With the dataset successfully loaded and the column data types corrected, we now have a clean and structured foundation for the analysis. Each column is properly formatted — categorical variables are stored efficiently, binary indicators use compact integer types, and dates are recognized as datetime objects. This ensures that subsequent calculations, groupings, and visualizations will run smoothly and accurately, providing a reliable starting point for the A/B test evaluation.\n"
   ]
  },
  {
   "cell_type": "markdown",
   "id": "7cf29890",
   "metadata": {},
   "source": [
    "## Exploratory Analysis\n",
    "\n",
    "Before diving into hypothesis testing, it is important to explore the dataset and understand the underlying distributions. This step helps verify that the experiment was properly randomized and that the two groups are comparable in size and composition. We begin by examining the balance between groups A and B, the proportion of new versus returning users, and the overall time coverage of the experiment. These checks provide confidence that any observed differences in outcomes are due to the treatment rather than imbalances in the data."
   ]
  },
  {
   "cell_type": "code",
   "execution_count": 6,
   "id": "e068d19a",
   "metadata": {},
   "outputs": [
    {
     "name": "stdout",
     "output_type": "stream",
     "text": [
      "Users per group (%):\n",
      "group\n",
      "A    50.0\n",
      "B    50.0\n",
      "Name: proportion, dtype: float64\n",
      "\n"
     ]
    }
   ],
   "source": [
    "# ----------------------------\n",
    "# Users per group\n",
    "# ----------------------------\n",
    "group_counts = df[\"group\"].value_counts(normalize=True) * 100\n",
    "print(\"Users per group (%):\")\n",
    "print(group_counts.round(2))\n",
    "print()\n"
   ]
  },
  {
   "cell_type": "code",
   "execution_count": 7,
   "id": "1eb9bb4d",
   "metadata": {},
   "outputs": [
    {
     "name": "stdout",
     "output_type": "stream",
     "text": [
      "New vs Returning users per group (%):\n",
      "       Returning (%)  New (%)\n",
      "group                        \n",
      "A              39.65    60.36\n",
      "B              39.82    60.18\n",
      "\n"
     ]
    }
   ],
   "source": [
    "# ----------------------------\n",
    "# Distribution of new vs returning users across groups\n",
    "# ----------------------------\n",
    "user_distribution = pd.crosstab(df[\"group\"], df[\"is_new_user\"], normalize=\"index\") * 100\n",
    "user_distribution.columns = [\"Returning (%)\", \"New (%)\"]\n",
    "print(\"New vs Returning users per group (%):\")\n",
    "print(user_distribution.round(2))\n",
    "print()"
   ]
  },
  {
   "cell_type": "code",
   "execution_count": 8,
   "id": "7d7ca2c6",
   "metadata": {},
   "outputs": [
    {
     "name": "stdout",
     "output_type": "stream",
     "text": [
      "Date range in data: 2025-07-01 00:00:00 → 2025-07-30 00:00:00\n"
     ]
    }
   ],
   "source": [
    "# ----------------------------\n",
    "# Date coverage\n",
    "# ----------------------------\n",
    "min_date, max_date = df[\"date\"].min(), df[\"date\"].max()\n",
    "print(f\"Date range in data: {min_date} → {max_date}\")\n"
   ]
  },
  {
   "cell_type": "code",
   "execution_count": null,
   "id": "88ccc5ee",
   "metadata": {},
   "outputs": [
    {
     "name": "stdout",
     "output_type": "stream",
     "text": [
      "=== Descriptive Statistics by Group ===\n",
      "       Conversion Rate (%)  ARPU      ARPPU\n",
      "group                                      \n",
      "A                     2.78  1.55  55.599998\n",
      "B                     3.63  2.15  59.299999\n"
     ]
    }
   ],
   "source": [
    "# ----------------------------\n",
    "# Descriptive stats\n",
    "# ----------------------------\n",
    "\n",
    "# Conversion rate per group (mean of 0/1 \"converted\")\n",
    "conversion_rate = df.groupby(\"group\", observed=True)[\"converted\"].mean() * 100  # observed = True to avoid warning \n",
    "\n",
    "# ARPU (Average Revenue Per User) = mean of revenue (includes zeros)\n",
    "arpu = df.groupby(\"group\", observed=True)[\"revenue\"].mean()\n",
    "\n",
    "# ARPPU (Average Revenue Per Paying User) = mean of revenue among converters only\n",
    "arppu = df[df[\"converted\"] == 1].groupby(\"group\", observed=True)[\"revenue\"].mean()\n",
    "\n",
    "# Combine into one summary table\n",
    "descriptive_stats = pd.DataFrame({\n",
    "    \"Conversion Rate (%)\": conversion_rate.round(2),\n",
    "    \"ARPU\": arpu.round(2),\n",
    "    \"ARPPU\": arppu.round(2)\n",
    "})\n",
    "\n",
    "print(\"=== Descriptive Statistics by Group ===\")\n",
    "print(descriptive_stats)\n"
   ]
  },
  {
   "cell_type": "code",
   "execution_count": 15,
   "id": "a7ef38c9",
   "metadata": {},
   "outputs": [
    {
     "data": {
      "image/png": "[encoded data removed]",
      "text/plain": [
       "<Figure size 600x400 with 1 Axes>"
      ]
     },
     "metadata": {},
     "output_type": "display_data"
    }
   ],
   "source": [
    "# ----------------------------\n",
    "# 1. Bar plot: Conversion Rate A vs B\n",
    "# ----------------------------\n",
    "conv_rate = df.groupby(\"group\", observed=True)[\"converted\"].mean().reset_index()\n",
    "conv_rate[\"converted\"] *= 100  # convert to %\n",
    "\n",
    "plt.figure(figsize=(6,4))\n",
    "sns.barplot(x=\"group\", y=\"converted\", hue=\"group\",\n",
    "            data=conv_rate, palette=\"Set2\", legend=False)\n",
    "plt.title(\"Conversion Rate by Group\")\n",
    "plt.ylabel(\"Conversion Rate (%)\")\n",
    "plt.xlabel(\"Group\")\n",
    "plt.ylim(0, conv_rate[\"converted\"].max() * 1.2)\n",
    "plt.show()"
   ]
  },
  {
   "cell_type": "code",
   "execution_count": 20,
   "id": "3486e9c6",
   "metadata": {},
   "outputs": [
    {
     "data": {
      "image/png": "[encoded data removed]",
      "text/plain": [
       "<Figure size 640x480 with 1 Axes>"
      ]
     },
     "metadata": {},
     "output_type": "display_data"
    }
   ],
   "source": [
    "# subset: converters only\n",
    "conv = df[df[\"converted\"] == 1].copy()\n",
    "\n",
    "# choose a sensible upper limit from positive revenue only\n",
    "upper = conv.loc[conv[\"revenue\"] > 0, \"revenue\"].quantile(0.95)\n",
    "if np.isfinite(upper) and upper > 0:\n",
    "    x_max = upper\n",
    "else:\n",
    "    x_max = conv[\"revenue\"].max()  # fallback\n",
    "\n",
    "# histogram of converters' revenue\n",
    "sns.histplot(\n",
    "    data=conv,\n",
    "    x=\"revenue\",\n",
    "    hue=\"group\",\n",
    "    element=\"step\",\n",
    "    stat=\"density\",\n",
    "    common_norm=False\n",
    ")\n",
    "plt.xlim(0, x_max)\n",
    "plt.title(\"Revenue Distribution Among Converters\")\n",
    "plt.show()\n"
   ]
  },
  {
   "cell_type": "code",
   "execution_count": 22,
   "id": "c0f19b6f",
   "metadata": {},
   "outputs": [
    {
     "name": "stdout",
     "output_type": "stream",
     "text": [
      "Group A conversion rate: 2.78%\n",
      "Group B conversion rate: 3.63%\n",
      "Absolute uplift: 0.85 p.p.\n",
      "Relative uplift: 30.58%\n",
      "Extra conversions per 10k users: 85\n",
      "Incremental revenue per 10k users: $6,068.17\n"
     ]
    }
   ],
   "source": [
    "# Conversion rates\n",
    "conv_rates = df.groupby(\"group\", observed=True)[\"converted\"].mean()\n",
    "\n",
    "pA = conv_rates[\"A\"]\n",
    "pB = conv_rates[\"B\"]\n",
    "\n",
    "# Uplift calculations\n",
    "absolute_uplift = pB - pA\n",
    "relative_uplift = (absolute_uplift / pA) * 100\n",
    "\n",
    "# Expected additional conversions per 10,000 users\n",
    "extra_conversions_per_10k = absolute_uplift * 10_000\n",
    "\n",
    "# ARPU (Average Revenue Per User)\n",
    "arpu = df.groupby(\"group\", observed=True)[\"revenue\"].mean()\n",
    "\n",
    "# Incremental revenue per 10,000 users\n",
    "incremental_revenue = (arpu[\"B\"] - arpu[\"A\"]) * 10_000\n",
    "\n",
    "# Print results\n",
    "print(f\"Group A conversion rate: {pA*100:.2f}%\")\n",
    "print(f\"Group B conversion rate: {pB*100:.2f}%\")\n",
    "print(f\"Absolute uplift: {absolute_uplift*100:.2f} p.p.\")\n",
    "print(f\"Relative uplift: {relative_uplift:.2f}%\")\n",
    "print(f\"Extra conversions per 10k users: {extra_conversions_per_10k:.0f}\")\n",
    "print(f\"Incremental revenue per 10k users: ${incremental_revenue:,.2f}\")"
   ]
  },
  {
   "cell_type": "markdown",
   "id": "2658d14f",
   "metadata": {},
   "source": [
    "We confirmed that the two groups were equally distributed in size, and that the proportion of new users as well as the ARPU among converters are roughly the same for both groups, ensuring a balanced experiment. Group A achieved a conversion rate of 2.78%, while Group B reached 3.63%, representing an absolute uplift of +0.85 percentage points and a relative improvement of +30.58%. Translating this effect into business terms, for every 10,000 users exposed to the new CTA (Group B), we would expect approximately 85 additional conversions, corresponding to an incremental revenue of roughly $6.068. These results indicate that the treatment has a meaningful positive impact and making this change available to all users should be considered.\n",
    "\n",
    "The exploratory analysis confirmed that groups A and B are well balanced in terms of sample size, user composition, and experimental period, ensuring the validity of the comparison. Descriptive statistics provided initial insights into conversion rates, ARPU, and ARPPU, with Group B showing a higher conversion rate than Group A. While these early findings suggest a positive effect of the treatment, statistical testing is required to determine whether the observed differences are statistically significant or could have arisen by chance. We now proceed with formal hypothesis testing.\n",
    "\n",
    "## Statistical testing"
   ]
  },
  {
   "cell_type": "code",
   "execution_count": 24,
   "id": "bcfea934",
   "metadata": {},
   "outputs": [
    {
     "name": "stdout",
     "output_type": "stream",
     "text": [
      "\n",
      "Z-test for proportions (two-sided):\n",
      "  z-statistic = 4.826\n",
      "  p-value     = 1.394e-06\n",
      "\n",
      "95% CI for (pB - pA): [0.51, 1.20] percentage points\n"
     ]
    }
   ],
   "source": [
    "# --- Prepare counts and sample sizes ---\n",
    "# Ensure 'group' is categorical to avoid future warnings and use observed=True\n",
    "agg = df.groupby(\"group\", observed=True)[\"converted\"].agg([\"sum\", \"count\"])\n",
    "conv_A, n_A = int(agg.loc[\"A\", \"sum\"]), int(agg.loc[\"A\", \"count\"])\n",
    "conv_B, n_B = int(agg.loc[\"B\", \"sum\"]), int(agg.loc[\"B\", \"count\"])\n",
    "\n",
    "# --- Two-sample Z-test for equality of proportions (H0: pA = pB) ---\n",
    "# Order matters only for the sign of the z-statistic; two-sided p-value is unaffected.\n",
    "zstat, pval = proportions_ztest(count=[conv_B, conv_A],\n",
    "                                nobs=[n_B, n_A],\n",
    "                                alternative=\"two-sided\")\n",
    "\n",
    "print(f\"\\nZ-test for proportions (two-sided):\")\n",
    "print(f\"  z-statistic = {zstat:.3f}\")\n",
    "print(f\"  p-value     = {pval:.4g}\")\n",
    "\n",
    "# --- 95% Confidence Interval for (pB - pA) ---\n",
    "# Use Newcombe (score) interval for two independent proportions (generally better than simple Wald).\n",
    "ci_low, ci_high = confint_proportions_2indep(count1=conv_B, nobs1=n_B,\n",
    "                                             count2=conv_A, nobs2=n_A,\n",
    "                                             method=\"newcomb\", compare=\"diff\")\n",
    "\n",
    "print(f\"\\n95% CI for (pB - pA): [{ci_low*100:.2f}, {ci_high*100:.2f}] percentage points\")\n"
   ]
  },
  {
   "cell_type": "markdown",
   "id": "12601187",
   "metadata": {},
   "source": [
    "The Z-test indicates a statistically significant difference in conversion rates between groups A and B  \n",
    "(\\(z = 4.83, p < 0.001\\)). The estimated uplift for Group B is between **0.51 and 1.20 percentage points** at the 95% confidence level. Since the confidence interval does not include zero and the p-value is well below the 0.05 threshold, we can reject the null hypothesis and conclude that the new CTA (Group B) leads to a **real and positive improvement in conversion rate** compared to the control.\n",
    "\n",
    "From a business perspective, this uplift, though modest in absolute terms, represents a meaningful relative gain given the scale of the user base, and supports moving forward with **broader adoption of the treatment**.\n"
   ]
  },
  {
   "cell_type": "code",
   "execution_count": 26,
   "id": "9d9d53cd",
   "metadata": {},
   "outputs": [
    {
     "name": "stdout",
     "output_type": "stream",
     "text": [
      "ARPU (A): 1.55\n",
      "ARPU (B): 2.15\n",
      "Absolute difference: 0.61\n",
      "Risk Ratio (B/A): 1.393\n",
      "\n",
      "T-test (Welch):\n",
      "  t-statistic = 4.064, p-value = 4.827e-05\n",
      "\n",
      "Mann–Whitney U test:\n",
      "  U = 201707138, p-value = 1.265e-06\n"
     ]
    }
   ],
   "source": [
    "# --- Split data into groups ---\n",
    "rev_A = df.loc[df[\"group\"] == \"A\", \"revenue\"]\n",
    "rev_B = df.loc[df[\"group\"] == \"B\", \"revenue\"]\n",
    "\n",
    "# --- Descriptive stats ---\n",
    "mean_A, mean_B = rev_A.mean(), rev_B.mean()\n",
    "diff = mean_B - mean_A\n",
    "rr = mean_B / mean_A if mean_A > 0 else np.nan\n",
    "\n",
    "print(f\"ARPU (A): {mean_A:.2f}\")\n",
    "print(f\"ARPU (B): {mean_B:.2f}\")\n",
    "print(f\"Absolute difference: {diff:.2f}\")\n",
    "print(f\"Risk Ratio (B/A): {rr:.3f}\")\n",
    "\n",
    "# --- T-test (parametric) ---\n",
    "t_stat, p_val_t = stats.ttest_ind(rev_B, rev_A, equal_var=False)  # Welch’s t-test\n",
    "print(\"\\nT-test (Welch):\")\n",
    "print(f\"  t-statistic = {t_stat:.3f}, p-value = {p_val_t:.4g}\")\n",
    "\n",
    "# --- Mann–Whitney U test (non-parametric, robust to skew) ---\n",
    "u_stat, p_val_u = stats.mannwhitneyu(rev_B, rev_A, alternative=\"two-sided\")\n",
    "print(\"\\nMann–Whitney U test:\")\n",
    "print(f\"  U = {u_stat:.0f}, p-value = {p_val_u:.4g}\")\n"
   ]
  },
  {
   "cell_type": "markdown",
   "id": "13909858",
   "metadata": {},
   "source": [
    "Both the Welch’s t-test \\((t = 4.06, p < 0.001)\\) and the Mann–Whitney U test \\((p < 0.001)\\) indicate that the difference in ARPU between groups A and B is statistically significant. Group A achieved an ARPU of **1.55**, while Group B reached **2.15**, yielding an absolute difference of **+0.61** and a risk ratio of **1.39**. This means that, on average, users in Group B generated nearly **40% more revenue per user** than those in Group A. From a business perspective, this uplift represents a substantial improvement in monetization and strengthens the case for adopting the new CTA across a wider user base.\n",
    "\n",
    "## Conclusions\n",
    "\n",
    "The experiment provided strong evidence that the new CTA (Group B) outperforms the control (Group A) on key business metrics.  \n",
    "\n",
    "- **Conversion Rate:**  \n",
    "  A Z-test confirmed a statistically significant uplift in conversions for Group B \\((z = 4.83, p < 0.001)\\). The estimated effect lies between **0.51 and 1.20 percentage points** at the 95% confidence level, demonstrating that the treatment leads to a real and positive improvement in user engagement.  \n",
    "\n",
    "- **Revenue (ARPU):**  \n",
    "  Both Welch’s t-test \\((t = 4.06, p < 0.001)\\) and the Mann–Whitney U test \\((p < 0.001)\\) indicated that the ARPU difference between groups is statistically significant. Group A achieved an ARPU of **1.55**, while Group B reached **2.15**, representing an absolute increase of **+0.61** and a risk ratio of **1.39**. On average, users in Group B generated nearly **40% more revenue per user** than those in Group A.  \n",
    "\n",
    "From a business perspective, these results show that the new CTA not only increases the likelihood of conversion but also drives higher revenue per user. Even modest gains at the individual level can translate into substantial financial impact when scaled across the entire user base. The evidence supports moving forward with broader adoption of the treatment.\n"
   ]
  }
 ],
 "metadata": {
  "kernelspec": {
   "display_name": "abtest_env (3.13.7)",
   "language": "python",
   "name": "python3"
  },
  "language_info": {
   "codemirror_mode": {
    "name": "ipython",
    "version": 3
   },
   "file_extension": ".py",
   "mimetype": "text/x-python",
   "name": "python",
   "nbconvert_exporter": "python",
   "pygments_lexer": "ipython3",
   "version": "3.13.7"
  }
 },
 "nbformat": 4,
 "nbformat_minor": 5
}
